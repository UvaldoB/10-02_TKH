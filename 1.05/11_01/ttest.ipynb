{
 "cells": [
  {
   "cell_type": "markdown",
   "metadata": {},
   "source": [
    "# Z-Test Lab\n",
    "Because we've already done a manual calculation of the t-test, lets try doing the z-test.\n",
    "\n",
    "Spend some time reading through this geek-for-geeks article. https://www.geeksforgeeks.org/z-test/#\n",
    "\n",
    "Then take the code examples that are given in the article and recreate a one-tailed one-sample z-test and a two-tailed two-sampled z-test."
   ]
  },
  {
   "cell_type": "code",
   "execution_count": 12,
   "metadata": {},
   "outputs": [
    {
     "ename": "NameError",
     "evalue": "name 'sec' is not defined",
     "output_type": "error",
     "traceback": [
      "\u001b[1;31m---------------------------------------------------------------------------\u001b[0m",
      "\u001b[1;31mNameError\u001b[0m                                 Traceback (most recent call last)",
      "\u001b[1;32mc:\\Users\\XTAGH\\Documents\\GitHub\\10-02_TKH\\1.05\\11_01\\ttest.ipynb Cell 2\u001b[0m line \u001b[0;36m1\n\u001b[1;32m----> <a href='vscode-notebook-cell:/c%3A/Users/XTAGH/Documents/GitHub/10-02_TKH/1.05/11_01/ttest.ipynb#X21sZmlsZQ%3D%3D?line=0'>1</a>\u001b[0m sec \u001b[39m=\u001b[39m sec \u001b[39m%\u001b[39m (\u001b[39m24\u001b[39m \u001b[39m*\u001b[39m \u001b[39m3600\u001b[39m)\n\u001b[0;32m      <a href='vscode-notebook-cell:/c%3A/Users/XTAGH/Documents/GitHub/10-02_TKH/1.05/11_01/ttest.ipynb#X21sZmlsZQ%3D%3D?line=1'>2</a>\u001b[0m hour \u001b[39m=\u001b[39m sec \u001b[39m/\u001b[39m\u001b[39m/\u001b[39m \u001b[39m3600\u001b[39m \n\u001b[0;32m      <a href='vscode-notebook-cell:/c%3A/Users/XTAGH/Documents/GitHub/10-02_TKH/1.05/11_01/ttest.ipynb#X21sZmlsZQ%3D%3D?line=2'>3</a>\u001b[0m sec \u001b[39m%\u001b[39m\u001b[39m=\u001b[39m \u001b[39m3600\u001b[39m\n",
      "\u001b[1;31mNameError\u001b[0m: name 'sec' is not defined"
     ]
    }
   ],
   "source": [
    "\n"
   ]
  },
  {
   "cell_type": "code",
   "execution_count": 11,
   "metadata": {},
   "outputs": [
    {
     "name": "stdout",
     "output_type": "stream",
     "text": [
      "38\n"
     ]
    }
   ],
   "source": [
    "ez_pace = 60 * 8 + 15 \n",
    "tem_pace = 60 * 7 + 12\n",
    "\n",
    "\n",
    "#Start is 6:52AM\n",
    "\n",
    "total_time = ((ez_pace * 2) + (tem_pace * 3))  \n",
    "\n",
    "print(total_time // 60) \n"
   ]
  },
  {
   "cell_type": "code",
   "execution_count": 34,
   "metadata": {},
   "outputs": [
    {
     "name": "stdout",
     "output_type": "stream",
     "text": [
      "seconds value in hours: 2\n",
      "seconds value in minutes: 46\n",
      "Time in preferred format :- 02:46:40\n"
     ]
    }
   ],
   "source": [
    "def convert_to_preferred_format(sec):\n",
    "    sec = sec % (24 * 3600)\n",
    "    hour = sec // 3600 \n",
    "    sec %= 3600\n",
    "    min = sec // 60 \n",
    "    sec %= 60 \n",
    "    print(\"seconds value in hours:\", hour)\n",
    "    print(\"seconds value in minutes:\", min)\n",
    "    return \"%02d:%02d:%02d\" % (hour, min, sec) \n",
    "\n",
    "n = 10000 \n",
    "print(\"Time in preferred format :-\", convert_to_preferred_format(n))"
   ]
  },
  {
   "cell_type": "code",
   "execution_count": 1,
   "metadata": {},
   "outputs": [],
   "source": [
    "import numpy as np\n",
    "import scipy.stats as stats "
   ]
  },
  {
   "cell_type": "markdown",
   "metadata": {},
   "source": [
    "## One-Sample Z-Test"
   ]
  },
  {
   "cell_type": "code",
   "execution_count": 2,
   "metadata": {},
   "outputs": [],
   "source": [
    "\n",
    "# Given information for one-tailed one-sample Z-test\n",
    "# Assume we have a sample size of 100 with a mean of 310\n",
    "# Assume we know the population mean of 280 with a known population std deviation of 20\n",
    "# At an alpha = 0.05 can we confidently say that these two groups are different?\n",
    "\n",
    "sample_size = 100\n",
    "sample_mean = 310\n",
    "population_mean = 280\n",
    "population_std = 20 \n",
    "alpha = 0.05 "
   ]
  },
  {
   "cell_type": "code",
   "execution_count": 5,
   "metadata": {},
   "outputs": [
    {
     "name": "stdout",
     "output_type": "stream",
     "text": [
      "Z-Score : 15.0\n",
      "Critical Z-Score : 1.6448536269514722\n",
      "Reject Null Hypothesis\n"
     ]
    }
   ],
   "source": [
    "# Use the cell for calculating and using z-score as a measure of critical value\n",
    "\n",
    "z_score = (sample_mean-population_mean)/(population_std/np.sqrt(100))\n",
    "print('Z-Score :', z_score)\n",
    "\n",
    "z_critical = stats.norm.ppf(1-alpha)\n",
    "print('Critical Z-Score :',z_critical)\n",
    "\n",
    "if z_score >  z_critical:\n",
    "    print(\"Reject Null Hypothesis\")\n",
    "else:\n",
    "  print(\"Fail to Reject Null Hypothesis\")"
   ]
  },
  {
   "cell_type": "code",
   "execution_count": 7,
   "metadata": {},
   "outputs": [
    {
     "name": "stdout",
     "output_type": "stream",
     "text": [
      "p-value : 0.0\n",
      "Reject Null Hypothesis\n"
     ]
    }
   ],
   "source": [
    "# Use this cell for calculating and using the z-score for calculating the appropriate p-value\n",
    "p_value = 1-stats.norm.cdf(z_score)\n",
    "\n",
    "print('p-value :', p_value)\n",
    "\n",
    "if p_value <  alpha:\n",
    "    print(\"Reject Null Hypothesis\")\n",
    "else:\n",
    "  print(\"Fail to Reject Null Hypothesis\")"
   ]
  },
  {
   "cell_type": "markdown",
   "metadata": {},
   "source": [
    "### Two-Sample Z-Test\n"
   ]
  },
  {
   "cell_type": "code",
   "execution_count": 10,
   "metadata": {},
   "outputs": [],
   "source": [
    "# Given that we have the following two groups, use a z-test to determine if they are significantly different.\n",
    "# Group A (Coffee Drinkers), group size of 100, mean of 90, and standard deviation of 12\n",
    "# Group B (Non-Coffe Drinkers), group size of 110, mean of 75, and standard deviation of 10\n",
    "\n",
    "\n",
    "\n",
    "import numpy as np\n",
    "import scipy.stats as stats\n",
    "\n",
    "#Group A\n",
    "groupA_size = 100\n",
    "groupA_mean = 90\n",
    "groupA_std = 12\n",
    "\n",
    "#Group B \n",
    "groupB_size = 110\n",
    "groupB_mean = 75 \n",
    "groupB_std = 10 \n",
    "\n",
    "D = 0 \n",
    "\n",
    "alpha = 0.05 \n",
    "\n",
    "\n",
    "\n",
    " "
   ]
  },
  {
   "cell_type": "code",
   "execution_count": 15,
   "metadata": {},
   "outputs": [
    {
     "name": "stdout",
     "output_type": "stream",
     "text": [
      "Z-Score: 4.174874544796374\n",
      "Critical Z-Score: 1.959963984540054\n",
      "Reject the null hypothesis.\n",
      "There is a significant difference between the Coffee Drinkers and Non-Coffee Drinkers.\n"
     ]
    }
   ],
   "source": [
    "# Use this cell for calculating the z-score and comparing against the critical\n",
    "z_score = ( groupA_mean - groupB_mean - D) / np.sqrt((groupA_std**2 / groupA_std) + (groupB_std**2 / groupB_size))\n",
    "print('Z-Score:', np.abs(z_score))\n",
    " \n",
    "z_critical = stats.norm.ppf(1 - alpha/2)\n",
    "print('Critical Z-Score:',z_critical)\n",
    "\n",
    "if np.abs(z_score) > z_critical:\n",
    "    print(\"\"\"Reject the null hypothesis.\n",
    "There is a significant difference between the Coffee Drinkers and Non-Coffee Drinkers.\"\"\")\n",
    "else:\n",
    "    print(\"\"\"Fail to reject the null hypothesis.\n",
    "There is not enough evidence to suggest a significant difference between the Coffee Drinkers and Non-Coffee Drinkers.\"\"\")\n"
   ]
  },
  {
   "cell_type": "code",
   "execution_count": 17,
   "metadata": {},
   "outputs": [
    {
     "name": "stdout",
     "output_type": "stream",
     "text": [
      "P-Value : 2.9815031318491947e-05\n",
      "Reject the null hypothesis.\n",
      "There is a significant difference between the Coffee Drinkers and Non-Coffee Drinkers.\n"
     ]
    }
   ],
   "source": [
    "# Use this cell for calculating the p-value\n",
    "\n",
    "p_value = 2 * (1 - stats.norm.cdf(np.abs(z_score)))\n",
    "print('P-Value :',p_value)\n",
    "\n",
    "if p_value < alpha:\n",
    "    print(\"\"\"Reject the null hypothesis.\n",
    "There is a significant difference between the Coffee Drinkers and Non-Coffee Drinkers.\"\"\")\n",
    "else:\n",
    "    print(\"\"\"Fail to reject the null hypothesis.\n",
    "There is not enough evidence to suggest significant difference between the Coffee Drinkers and Non-Coffee Drinkers.\"\"\")"
   ]
  },
  {
   "cell_type": "markdown",
   "metadata": {},
   "source": [
    "### Debrief\n",
    "\n",
    "You might not know exactly what is going on in the code right now.\n",
    "\n",
    "In your groups, do some research on the individual functions and what they mean. Share your thoughts on what these functions are using and what concepts are new.\n",
    "\n",
    "How is the idea of what you did using the code related to what we discussed in class?\n",
    "\n",
    "To help with this idea, read: https://stackoverflow.com/questions/65468026/norm-ppf-vs-norm-cdf-in-pythons-scipy-stats "
   ]
  }
 ],
 "metadata": {
  "kernelspec": {
   "display_name": "base",
   "language": "python",
   "name": "python3"
  },
  "language_info": {
   "codemirror_mode": {
    "name": "ipython",
    "version": 3
   },
   "file_extension": ".py",
   "mimetype": "text/x-python",
   "name": "python",
   "nbconvert_exporter": "python",
   "pygments_lexer": "ipython3",
   "version": "3.9.18"
  },
  "orig_nbformat": 4
 },
 "nbformat": 4,
 "nbformat_minor": 2
}
