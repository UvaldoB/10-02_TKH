{
 "cells": [
  {
   "cell_type": "markdown",
   "metadata": {},
   "source": [
    "## Data Cleaning Lab I\n",
    "\n",
    "For this lab, you will begin work on your 4th TLAB. The dataset for this lab is in the `../../data/shopping.csv` file. \n",
    "\n",
    "The goals for this process include:\n",
    "\n",
    "* dropping rows with missing data\n",
    "* dropping columns with overwhelmingly missing data\n",
    "\n",
    "After you've completed this process, answer the questions underneath `Data Cleaning Lab II` in your own words."
   ]
  },
  {
   "cell_type": "code",
   "execution_count": 10,
   "metadata": {},
   "outputs": [],
   "source": [
    "import pandas as pd\n",
    "import numpy as np"
   ]
  },
  {
   "cell_type": "code",
   "execution_count": 13,
   "metadata": {},
   "outputs": [
    {
     "data": {
      "text/html": [
       "<div>\n",
       "<style scoped>\n",
       "    .dataframe tbody tr th:only-of-type {\n",
       "        vertical-align: middle;\n",
       "    }\n",
       "\n",
       "    .dataframe tbody tr th {\n",
       "        vertical-align: top;\n",
       "    }\n",
       "\n",
       "    .dataframe thead th {\n",
       "        text-align: right;\n",
       "    }\n",
       "</style>\n",
       "<table border=\"1\" class=\"dataframe\">\n",
       "  <thead>\n",
       "    <tr style=\"text-align: right;\">\n",
       "      <th></th>\n",
       "      <th>Customer ID</th>\n",
       "      <th>Age</th>\n",
       "      <th>Gender</th>\n",
       "      <th>Item Purchased</th>\n",
       "      <th>Purchase Amount (USD)</th>\n",
       "      <th>Location</th>\n",
       "      <th>Size</th>\n",
       "      <th>Color</th>\n",
       "      <th>Season</th>\n",
       "      <th>Review Rating</th>\n",
       "      <th>Shipping Type</th>\n",
       "      <th>Promo Code Used</th>\n",
       "      <th>Previous Purchases</th>\n",
       "      <th>Payment Method</th>\n",
       "      <th>Frequency of Purchases</th>\n",
       "    </tr>\n",
       "  </thead>\n",
       "  <tbody>\n",
       "    <tr>\n",
       "      <th>0</th>\n",
       "      <td>3475</td>\n",
       "      <td>NaN</td>\n",
       "      <td>Male</td>\n",
       "      <td>Jacket</td>\n",
       "      <td>30.904467</td>\n",
       "      <td>Maine</td>\n",
       "      <td>M</td>\n",
       "      <td>Burnt orange</td>\n",
       "      <td>Fall</td>\n",
       "      <td>4.0</td>\n",
       "      <td>Standard</td>\n",
       "      <td>No</td>\n",
       "      <td>0</td>\n",
       "      <td>Credit Card</td>\n",
       "      <td>NaN</td>\n",
       "    </tr>\n",
       "    <tr>\n",
       "      <th>1</th>\n",
       "      <td>3698</td>\n",
       "      <td>21.0</td>\n",
       "      <td>Female</td>\n",
       "      <td>Backpack</td>\n",
       "      <td>31.588259</td>\n",
       "      <td>NaN</td>\n",
       "      <td>L</td>\n",
       "      <td>Turquoise</td>\n",
       "      <td>Winter</td>\n",
       "      <td>2.0</td>\n",
       "      <td>Express</td>\n",
       "      <td>No</td>\n",
       "      <td>1</td>\n",
       "      <td>Credit Card</td>\n",
       "      <td>Monthly</td>\n",
       "    </tr>\n",
       "    <tr>\n",
       "      <th>2</th>\n",
       "      <td>2756</td>\n",
       "      <td>31.0</td>\n",
       "      <td>Male</td>\n",
       "      <td>Leggings</td>\n",
       "      <td>24.231704</td>\n",
       "      <td>Nevada</td>\n",
       "      <td>M</td>\n",
       "      <td>Terra cotta</td>\n",
       "      <td>Winter</td>\n",
       "      <td>4.0</td>\n",
       "      <td>Standard</td>\n",
       "      <td>No</td>\n",
       "      <td>0</td>\n",
       "      <td>Credit Card</td>\n",
       "      <td>NaN</td>\n",
       "    </tr>\n",
       "    <tr>\n",
       "      <th>3</th>\n",
       "      <td>3340</td>\n",
       "      <td>NaN</td>\n",
       "      <td>Male</td>\n",
       "      <td>Pajamas</td>\n",
       "      <td>33.918834</td>\n",
       "      <td>Nebraska</td>\n",
       "      <td>M</td>\n",
       "      <td>Black</td>\n",
       "      <td>Winter</td>\n",
       "      <td>NaN</td>\n",
       "      <td>Standard</td>\n",
       "      <td>No</td>\n",
       "      <td>2</td>\n",
       "      <td>Credit Card</td>\n",
       "      <td>Bi-Weekly</td>\n",
       "    </tr>\n",
       "    <tr>\n",
       "      <th>4</th>\n",
       "      <td>3391</td>\n",
       "      <td>38.0</td>\n",
       "      <td>Male</td>\n",
       "      <td>Sunglasses</td>\n",
       "      <td>36.545487</td>\n",
       "      <td>Oregon</td>\n",
       "      <td>S</td>\n",
       "      <td>Aubergine</td>\n",
       "      <td>Summer</td>\n",
       "      <td>NaN</td>\n",
       "      <td>Standard</td>\n",
       "      <td>No</td>\n",
       "      <td>0</td>\n",
       "      <td>Credit Card</td>\n",
       "      <td>NaN</td>\n",
       "    </tr>\n",
       "  </tbody>\n",
       "</table>\n",
       "</div>"
      ],
      "text/plain": [
       "   Customer ID   Age  Gender Item Purchased  Purchase Amount (USD)  Location  \\\n",
       "0         3475   NaN    Male         Jacket              30.904467     Maine   \n",
       "1         3698  21.0  Female       Backpack              31.588259       NaN   \n",
       "2         2756  31.0    Male       Leggings              24.231704    Nevada   \n",
       "3         3340   NaN    Male        Pajamas              33.918834  Nebraska   \n",
       "4         3391  38.0    Male     Sunglasses              36.545487    Oregon   \n",
       "\n",
       "  Size         Color  Season  Review Rating Shipping Type Promo Code Used  \\\n",
       "0    M  Burnt orange    Fall            4.0      Standard              No   \n",
       "1    L     Turquoise  Winter            2.0       Express              No   \n",
       "2    M   Terra cotta  Winter            4.0      Standard              No   \n",
       "3    M         Black  Winter            NaN      Standard              No   \n",
       "4    S     Aubergine  Summer            NaN      Standard              No   \n",
       "\n",
       "   Previous Purchases Payment Method Frequency of Purchases  \n",
       "0                   0    Credit Card                    NaN  \n",
       "1                   1    Credit Card                Monthly  \n",
       "2                   0    Credit Card                    NaN  \n",
       "3                   2    Credit Card              Bi-Weekly  \n",
       "4                   0    Credit Card                    NaN  "
      ]
     },
     "execution_count": 13,
     "metadata": {},
     "output_type": "execute_result"
    }
   ],
   "source": [
    "# TODO: load `data/raw/shopping.csv` as a pandas dataframe\n",
    "\n",
    "df = pd.read_csv(\"../data/shopping.csv\")\n",
    "df.head()"
   ]
  },
  {
   "cell_type": "code",
   "execution_count": null,
   "metadata": {},
   "outputs": [],
   "source": [
    "# TODO: print out the shape of this dataframe for better clarity\n",
    "# Documentation: https://pandas.pydata.org/docs/reference/api/pandas.DataFrame.shape.html\n",
    "\n",
    "..."
   ]
  },
  {
   "cell_type": "code",
   "execution_count": null,
   "metadata": {},
   "outputs": [],
   "source": [
    "# TODO: display how many null values are in each column of this dataframe\n",
    "# Documentation: https://datatofish.com/count-nan-pandas-dataframe/\n",
    "\n",
    "..."
   ]
  },
  {
   "cell_type": "code",
   "execution_count": null,
   "metadata": {},
   "outputs": [],
   "source": [
    "# TODO: it looks like there is roughly 65% of data missing \"Frequency of Purchases\". Drop this column, as it is mostly empty and unneeded for our analysis.\n",
    "# In addition, also drop \"Customer ID\" as this column is also unnecessary\n",
    "# Reassign this dropped dataframe as a new variable\n",
    "# Documentation: drive.google.com/drive/folders/1pAWY1JqIQw26uhtT272AoDDeq7jtbkm2\n",
    "\n",
    "..."
   ]
  },
  {
   "cell_type": "code",
   "execution_count": null,
   "metadata": {},
   "outputs": [],
   "source": [
    "# TODO: print out the shape of this dataframe and verify that the shape is \"(3900, 13)\"\n",
    "\n",
    "..."
   ]
  },
  {
   "cell_type": "code",
   "execution_count": null,
   "metadata": {},
   "outputs": [],
   "source": [
    "# TODO: Display a histogram using the \"Age\" column\n",
    "\n",
    "..."
   ]
  },
  {
   "cell_type": "code",
   "execution_count": null,
   "metadata": {},
   "outputs": [],
   "source": [
    "# TODO: Display a histogram using the \"Purchase Amount (USD)\" column\n",
    "\n",
    "..."
   ]
  },
  {
   "cell_type": "code",
   "execution_count": null,
   "metadata": {},
   "outputs": [],
   "source": [
    "# TODO: Display a histogram using the \"Review Rating\" column\n",
    "\n",
    "..."
   ]
  },
  {
   "cell_type": "code",
   "execution_count": null,
   "metadata": {},
   "outputs": [],
   "source": [
    "# TODO: Display a histogram using the \"Previous Purchases\" column\n",
    "\n",
    "..."
   ]
  },
  {
   "cell_type": "markdown",
   "metadata": {},
   "source": [
    "## Data Cleaning Lab II\n",
    "\n",
    "In the next section, answer a few questions regarding your dataset using the visualizations & output you've generated."
   ]
  },
  {
   "cell_type": "markdown",
   "metadata": {},
   "source": [
    "### Q1\n",
    "\n",
    "What kind of distribution do we observe in the \"Age\" column? Do these outliers represent errors? Why or why not?"
   ]
  },
  {
   "cell_type": "markdown",
   "metadata": {},
   "source": [
    "Answer here"
   ]
  },
  {
   "cell_type": "markdown",
   "metadata": {},
   "source": [
    "### Q2\n",
    "\n",
    "What kind of distribution do we observe in the \"Purchase Amount (USD)\" column? Do these outliers represent errors? Why or why not?"
   ]
  },
  {
   "cell_type": "markdown",
   "metadata": {},
   "source": [
    "Answer here"
   ]
  },
  {
   "cell_type": "markdown",
   "metadata": {},
   "source": [
    "### Q3\n",
    "\n",
    "What kind of variable is the \"Review Rating\" column? Why does this variable-type make sense given the context of a review?"
   ]
  },
  {
   "cell_type": "markdown",
   "metadata": {},
   "source": [
    "Answer here"
   ]
  },
  {
   "cell_type": "markdown",
   "metadata": {},
   "source": [
    "### Q4\n",
    "\n",
    "Using the \"Previous Purchases\" histogram, what do we notice about this distribution? Where are most values located? Do we notice any patterns?"
   ]
  },
  {
   "cell_type": "markdown",
   "metadata": {},
   "source": [
    "Answer here"
   ]
  },
  {
   "cell_type": "markdown",
   "metadata": {},
   "source": [
    "### Q5\n",
    "\n",
    "Make an assumption on the typical shopper on this dataset. What is the typical shoppers Age, Purchase Amount, Review, and amount of Previous Purchases? Base your assumptions on your histograms."
   ]
  },
  {
   "cell_type": "markdown",
   "metadata": {},
   "source": [
    "Answer here"
   ]
  }
 ],
 "metadata": {
  "kernelspec": {
   "display_name": "base",
   "language": "python",
   "name": "python3"
  },
  "language_info": {
   "codemirror_mode": {
    "name": "ipython",
    "version": 3
   },
   "file_extension": ".py",
   "mimetype": "text/x-python",
   "name": "python",
   "nbconvert_exporter": "python",
   "pygments_lexer": "ipython3",
   "version": "3.11.5"
  }
 },
 "nbformat": 4,
 "nbformat_minor": 2
}
